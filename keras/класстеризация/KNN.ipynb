{
 "cells": [
  {
   "cell_type": "code",
   "execution_count": 2,
   "metadata": {},
   "outputs": [],
   "source": [
    "import pandas as pd \n",
    "import cv2                 \n",
    "import numpy as np         \n",
    "import os                  \n",
    "from random import shuffle\n",
    "from tqdm import tqdm  \n",
    "import scipy\n",
    "import skimage\n",
    "from skimage.transform import resize\n",
    "import keras\n",
    "from keras.callbacks import ReduceLROnPlateau , ModelCheckpoint\n",
    "from keras.models import Sequential\n",
    "from keras.layers import Dense , Activation\n",
    "from keras.layers import Dropout\n",
    "from keras.layers import Flatten\n",
    "from keras.constraints import maxnorm\n",
    "from keras.optimizers import SGD , RMSprop\n",
    "from keras.layers import Conv2D , BatchNormalization\n",
    "from keras.layers import MaxPooling2D\n",
    "from keras.utils import np_utils\n",
    "from keras import backend as K\n",
    "from sklearn.model_selection import GridSearchCV\n",
    "from keras.wrappers.scikit_learn import KerasClassifier\n"
   ]
  },
  {
   "cell_type": "code",
   "execution_count": 3,
   "metadata": {},
   "outputs": [],
   "source": [
    "TRAIN_DIR = \"chest_xray/chest_xray/train/\"\n",
    "TEST_DIR =  \"chest_xray/chest_xray/test/\""
   ]
  },
  {
   "cell_type": "code",
   "execution_count": 4,
   "metadata": {},
   "outputs": [],
   "source": [
    "def set_label(Dir):\n",
    "    for nextdir in os.listdir(Dir):\n",
    "        if not nextdir.startswith('.'):\n",
    "            if nextdir in ['NORMAL']:\n",
    "                label = 0\n",
    "            elif nextdir in ['PNEUMONIA']:\n",
    "                label = 1\n",
    "            else:\n",
    "                label = 2\n",
    "    return nextdir, label"
   ]
  },
  {
   "cell_type": "code",
   "execution_count": 45,
   "metadata": {},
   "outputs": [],
   "source": [
    "def get_data(Dir,type):\n",
    "    x = []\n",
    "    y = []\n",
    "    lenn=0\n",
    "    if type == 'train':\n",
    "        for nextDir in os.listdir(Dir):\n",
    "            if not nextDir.startswith('.'):\n",
    "                if nextDir in ['NORMAL']:\n",
    "                    label = 0\n",
    "                elif nextDir in ['PNEUMONIA']:\n",
    "                    label = 1\n",
    "                else:\n",
    "                    label = 2\n",
    "                    \n",
    "                temp = Dir + nextDir\n",
    "                    \n",
    "                for file in tqdm(os.listdir(temp)):\n",
    "                    if lenn<=3000:\n",
    "                        lenn+=1\n",
    "                        img = cv2.imread(temp + '/' + file)\n",
    "                        if img is not None:\n",
    "                            img = skimage.transform.resize(img, (150, 150, 3))\n",
    "                            #img_file = scipy.misc.imresize(arr=img_file, size=(150, 150, 3))\n",
    "                            img = np.asarray(img)\n",
    "                            x.append(img)\n",
    "                            y.append(label)\n",
    "    else:\n",
    "        \n",
    "        for nextDir in os.listdir(Dir):\n",
    "            if not nextDir.startswith('.'):\n",
    "                if nextDir in ['NORMAL']:\n",
    "                    label = 0\n",
    "                elif nextDir in ['PNEUMONIA']:\n",
    "                    label = 1\n",
    "                else:\n",
    "                    label = 2\n",
    "                   \n",
    "                temp = Dir + nextDir\n",
    "                   \n",
    "                for file in tqdm(os.listdir(temp)):\n",
    "                    #if lenn<=300:\n",
    "                      #  lenn+=1\n",
    "                    img = cv2.imread(temp + '/' + file)\n",
    "                    if img is not None:\n",
    "                        img = skimage.transform.resize(img, (150, 150, 3))\n",
    "                        #img_file = scipy.misc.imresize(arr=img_file, size=(150, 150, 3))\n",
    "                        img = np.asarray(img)\n",
    "                        x.append(img)\n",
    "                        y.append(label)\n",
    "        \n",
    "                        \n",
    "    x = np.asarray(x)\n",
    "    y = np.asarray(y)\n",
    "    return x,y"
   ]
  },
  {
   "cell_type": "code",
   "execution_count": 46,
   "metadata": {},
   "outputs": [
    {
     "name": "stderr",
     "output_type": "stream",
     "text": [
      "100%|██████████| 3876/3876 [07:01<00:00,  9.20it/s]\n",
      "100%|██████████| 1342/1342 [00:00<00:00, 1063032.29it/s]\n"
     ]
    }
   ],
   "source": [
    "x_train, y_train = get_data(TRAIN_DIR,'train')"
   ]
  },
  {
   "cell_type": "code",
   "execution_count": 34,
   "metadata": {},
   "outputs": [
    {
     "name": "stderr",
     "output_type": "stream",
     "text": [
      "100%|██████████| 390/390 [00:41<00:00,  9.46it/s]\n",
      "100%|██████████| 234/234 [01:41<00:00,  2.31it/s]\n"
     ]
    }
   ],
   "source": [
    "x_test , y_test = get_data(TEST_DIR, 'test')"
   ]
  },
  {
   "cell_type": "code",
   "execution_count": 47,
   "metadata": {},
   "outputs": [
    {
     "name": "stdout",
     "output_type": "stream",
     "text": [
      "(3000, 150, 150, 3) \n",
      " (624, 150, 150, 3)\n",
      "(3000,) \n",
      " (624, 2)\n"
     ]
    }
   ],
   "source": [
    "print(x_train.shape,'\\n',x_test.shape)\n",
    "print(y_train.shape,'\\n',y_test.shape)"
   ]
  },
  {
   "cell_type": "code",
   "execution_count": 48,
   "metadata": {},
   "outputs": [
    {
     "name": "stdout",
     "output_type": "stream",
     "text": [
      "(3000, 2) (624, 2)\n"
     ]
    }
   ],
   "source": [
    "y_train = keras.utils.to_categorical(y_train, 2)\n",
    "#y_test = keras.utils.to_categorical(y_test, 2)\n",
    "print(y_train.shape,y_test.shape)"
   ]
  },
  {
   "cell_type": "code",
   "execution_count": 37,
   "metadata": {},
   "outputs": [],
   "source": [
    "#filepath=\"weights.hdf5\"\n",
    "#checkpoint = ModelCheckpoint(filepath, monitor='val_acc', verbose=1, save_best_only=True, mode='max')"
   ]
  },
  {
   "cell_type": "code",
   "execution_count": 38,
   "metadata": {},
   "outputs": [],
   "source": [
    "#K.set_image_data_format('channels_first')\n",
    "#x_train=x_train.reshape(5216,3,150,150)\n",
    "#x_test=x_test.reshape(624,3,150,150)"
   ]
  },
  {
   "cell_type": "code",
   "execution_count": 76,
   "metadata": {},
   "outputs": [
    {
     "name": "stdout",
     "output_type": "stream",
     "text": [
      "Model: \"sequential_12\"\n",
      "_________________________________________________________________\n",
      "Layer (type)                 Output Shape              Param #   \n",
      "=================================================================\n",
      "flatten_11 (Flatten)         (None, 67500)             0         \n",
      "_________________________________________________________________\n",
      "dense_35 (Dense)             (None, 128)               8640128   \n",
      "_________________________________________________________________\n",
      "activation_27 (Activation)   (None, 128)               0         \n",
      "_________________________________________________________________\n",
      "dense_36 (Dense)             (None, 20)                2580      \n",
      "_________________________________________________________________\n",
      "activation_28 (Activation)   (None, 20)                0         \n",
      "_________________________________________________________________\n",
      "dense_37 (Dense)             (None, 20)                420       \n",
      "_________________________________________________________________\n",
      "activation_29 (Activation)   (None, 20)                0         \n",
      "_________________________________________________________________\n",
      "dense_38 (Dense)             (None, 20)                420       \n",
      "_________________________________________________________________\n",
      "activation_30 (Activation)   (None, 20)                0         \n",
      "_________________________________________________________________\n",
      "dense_39 (Dense)             (None, 2)                 42        \n",
      "=================================================================\n",
      "Total params: 8,643,590\n",
      "Trainable params: 8,643,590\n",
      "Non-trainable params: 0\n",
      "_________________________________________________________________\n",
      "None\n"
     ]
    }
   ],
   "source": [
    "def swish_activation(x):\n",
    "    return (K.sigmoid(x) * x)\n",
    "\n",
    "model = Sequential()\n",
    "# Этот слой превратит нашу двумерную картинку в вектор\n",
    "model.add(Flatten(input_shape=(3,150,150)))\n",
    "\n",
    "# Добавляем скрытый полносвязный слой из 128 нейронов\n",
    "model.add(Dense(units=128, input_shape=(3,150,150)))\n",
    "#И активацию для скрытого слоя нейронов\n",
    "model.add(Activation('relu'))\n",
    "# Добавляем скрытый полносвязный слой из 128 нейронов\n",
    "model.add(Dense(units=20, input_shape=(3,150,150)))\n",
    "#И активацию для скрытого слоя нейронов\n",
    "model.add(Activation('relu'))\n",
    "# Добавляем скрытый полносвязный слой из 128 нейронов\n",
    "model.add(Dense(units=20, input_shape=(3,150,150)))\n",
    "#И активацию для скрытого слоя нейронов\n",
    "model.add(Activation('relu'))\n",
    "# Добавляем скрытый полносвязный слой из 128 нейронов\n",
    "model.add(Dense(units=20, input_shape=(3,150,150)))\n",
    "#И активацию для скрытого слоя нейронов\n",
    "model.add(Activation('relu'))\n",
    "\n",
    "# Добавляем выходной полносвязный слой из 2 нейронов\n",
    "model.add(Dense(units=2))\n",
    "# Чтобы получить на выходе вероятности для каждого класса, выбираем активацию\n",
    "# softmax\n",
    "#model.add(Activation('softmax'))\n",
    "#model = Sequential()\n",
    "#model.add(Conv2D(16, (3, 3), activation='relu', padding=\"same\", input_shape=(3,150,150)))\n",
    "#model.add(Conv2D(16, (3, 3), padding=\"same\", activation='relu'))\n",
    "#model.add(MaxPooling2D(pool_size=(2, 2)))\n",
    "#\n",
    "#model.add(Conv2D(32, (3, 3), activation='relu', padding=\"same\", input_shape=(3,150,150)))\n",
    "#model.add(Conv2D(32, (3, 3), padding=\"same\", activation='relu'))\n",
    "#model.add(MaxPooling2D(pool_size=(2, 2)))\n",
    "#\n",
    "#model.add(Conv2D(64, (3, 3), activation='relu', padding=\"same\"))\n",
    "#model.add(Conv2D(64, (3, 3), padding=\"same\", activation='relu'))\n",
    "#model.add(MaxPooling2D(pool_size=(2, 2)))\n",
    "#\n",
    "#model.add(Conv2D(96, (3, 3), dilation_rate=(2, 2), activation='relu', padding=\"same\"))\n",
    "#model.add(Conv2D(96, (3, 3), padding=\"valid\", activation='relu'))\n",
    "#model.add(MaxPooling2D(pool_size=(2, 2)))\n",
    "#\n",
    "#model.add(Conv2D(128, (3, 3), dilation_rate=(2, 2), activation='relu', padding=\"same\"))\n",
    "#model.add(Conv2D(128, (3, 3), padding=\"valid\", activation='relu'))\n",
    "#model.add(MaxPooling2D(pool_size=(2, 2)))\n",
    "#\n",
    "#model.add(Flatten())\n",
    "#\n",
    "#model.add(Dense(64, activation=swish_activation))\n",
    "#model.add(Dropout(0.4))\n",
    "#model.add(Dense(2 , activation='sigmoid'))\n",
    "\n",
    "model.compile(loss='binary_crossentropy',\n",
    "                  optimizer=RMSprop(lr=0.00005),\n",
    "                  metrics=['accuracy'])\n",
    "\n",
    "print(model.summary())\n"
   ]
  },
  {
   "cell_type": "code",
   "execution_count": 77,
   "metadata": {},
   "outputs": [
    {
     "name": "stdout",
     "output_type": "stream",
     "text": [
      "Epoch 1/6\n",
      "WARNING:tensorflow:Model was constructed with shape (None, 3, 150, 150) for input Tensor(\"flatten_11_input:0\", shape=(None, 3, 150, 150), dtype=float32), but it was called on an input with incompatible shape (None, 150, 150, 3).\n",
      "WARNING:tensorflow:Model was constructed with shape (None, 3, 150, 150) for input Tensor(\"flatten_11_input:0\", shape=(None, 3, 150, 150), dtype=float32), but it was called on an input with incompatible shape (None, 150, 150, 3).\n",
      "12/12 [==============================] - 4s 293ms/step - loss: 7.0364 - accuracy: 0.9993\n",
      "Epoch 2/6\n",
      "12/12 [==============================] - 3s 269ms/step - loss: 7.6246 - accuracy: 1.0000\n",
      "Epoch 3/6\n",
      "12/12 [==============================] - 3s 279ms/step - loss: 7.6246 - accuracy: 1.0000\n",
      "Epoch 4/6\n",
      "12/12 [==============================] - 3s 278ms/step - loss: 7.6246 - accuracy: 1.0000\n",
      "Epoch 5/6\n",
      "12/12 [==============================] - 3s 276ms/step - loss: 7.6246 - accuracy: 1.0000\n",
      "Epoch 6/6\n",
      "12/12 [==============================] - 3s 269ms/step - loss: 7.6246 - accuracy: 1.0000\n"
     ]
    },
    {
     "data": {
      "text/plain": [
       "<tensorflow.python.keras.callbacks.History at 0x7f68bda0c9e8>"
      ]
     },
     "execution_count": 77,
     "metadata": {},
     "output_type": "execute_result"
    }
   ],
   "source": [
    "model.fit(x_train, y_train, epochs=6, batch_size=256)"
   ]
  },
  {
   "cell_type": "code",
   "execution_count": 78,
   "metadata": {},
   "outputs": [
    {
     "name": "stdout",
     "output_type": "stream",
     "text": [
      "WARNING:tensorflow:Model was constructed with shape (None, 3, 150, 150) for input Tensor(\"flatten_11_input:0\", shape=(None, 3, 150, 150), dtype=float32), but it was called on an input with incompatible shape (None, 150, 150, 3).\n",
      "20/20 [==============================] - 0s 20ms/step - loss: 7.6246 - accuracy: 0.6250\n"
     ]
    },
    {
     "data": {
      "text/plain": [
       "[7.624619483947754, 0.625]"
      ]
     },
     "execution_count": 78,
     "metadata": {},
     "output_type": "execute_result"
    }
   ],
   "source": [
    "model.evaluate(x_test, y_test)"
   ]
  },
  {
   "cell_type": "code",
   "execution_count": 79,
   "metadata": {},
   "outputs": [
    {
     "name": "stdout",
     "output_type": "stream",
     "text": [
      "WARNING:tensorflow:Model was constructed with shape (None, 3, 150, 150) for input Tensor(\"flatten_11_input:0\", shape=(None, 3, 150, 150), dtype=float32), but it was called on an input with incompatible shape (None, 150, 150, 3).\n"
     ]
    }
   ],
   "source": [
    "from sklearn.metrics import confusion_matrix\n",
    "pred = model.predict(x_test)\n",
    "pred = np.argmax(pred,axis = 1) \n",
    "y_true = np.argmax(y_test,axis = 1)"
   ]
  },
  {
   "cell_type": "code",
   "execution_count": 80,
   "metadata": {},
   "outputs": [
    {
     "name": "stdout",
     "output_type": "stream",
     "text": [
      "[[  0 234]\n",
      " [  0 390]]\n"
     ]
    }
   ],
   "source": [
    "CM = confusion_matrix(y_true, pred)\n",
    "print(CM)"
   ]
  },
  {
   "cell_type": "code",
   "execution_count": 75,
   "metadata": {},
   "outputs": [
    {
     "data": {
      "text/plain": [
       "0.625"
      ]
     },
     "execution_count": 75,
     "metadata": {},
     "output_type": "execute_result"
    }
   ],
   "source": [
    "390/(390+234)"
   ]
  },
  {
   "cell_type": "code",
   "execution_count": 52,
   "metadata": {},
   "outputs": [
    {
     "name": "stdout",
     "output_type": "stream",
     "text": [
      "94/94 [==============================] - 1s 13ms/step - loss: 0.0000e+00 - accuracy: 1.0000\n"
     ]
    },
    {
     "data": {
      "text/plain": [
       "[0.0, 1.0]"
      ]
     },
     "execution_count": 52,
     "metadata": {},
     "output_type": "execute_result"
    }
   ],
   "source": [
    "model.evaluate(x_train, y_train)"
   ]
  },
  {
   "cell_type": "code",
   "execution_count": null,
   "metadata": {},
   "outputs": [],
   "source": []
  }
 ],
 "metadata": {
  "kernelspec": {
   "display_name": "Python 3",
   "language": "python",
   "name": "python3"
  },
  "language_info": {
   "codemirror_mode": {
    "name": "ipython",
    "version": 3
   },
   "file_extension": ".py",
   "mimetype": "text/x-python",
   "name": "python",
   "nbconvert_exporter": "python",
   "pygments_lexer": "ipython3",
   "version": "3.6.9"
  }
 },
 "nbformat": 4,
 "nbformat_minor": 4
}
